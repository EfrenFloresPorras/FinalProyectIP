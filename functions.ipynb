{
 "cells": [
  {
   "cell_type": "code",
   "execution_count": 18,
   "metadata": {},
   "outputs": [],
   "source": [
    "import numpy as np\n",
    "import cv2 as cv\n",
    "import matplotlib.pyplot as plt"
   ]
  },
  {
   "cell_type": "markdown",
   "metadata": {},
   "source": [
    "### Images links"
   ]
  },
  {
   "cell_type": "code",
   "execution_count": 19,
   "metadata": {},
   "outputs": [],
   "source": [
    "fruit = r\"c:\\Users\\Ale Escallada\\OneDrive\\Documentos\\imagenesPI2\\fruits.jpg\"\n",
    "whale = r\"c:\\Users\\Ale Escallada\\OneDrive\\Documentos\\imagenesPI2\\rubberwhale1.png\"\n",
    "butterfly = r\"c:\\Users\\Ale Escallada\\OneDrive\\Documentos\\imagenesPI2\\butterfly.jpg\"\n",
    "car = r\"c:\\Users\\Ale Escallada\\OneDrive\\Documentos\\imagenesPI2\\licenseplate_motion.jpg\""
   ]
  },
  {
   "cell_type": "markdown",
   "metadata": {},
   "source": [
    "### Dichromatic vision (dogs and cats)"
   ]
  },
  {
   "cell_type": "code",
   "execution_count": 20,
   "metadata": {},
   "outputs": [],
   "source": [
    "\n",
    "def dog_cat_vision(img_link):\n",
    "    img = cv.imread(img_link)[:, :, :: -1]\n",
    "\n",
    "    # Delete red channel\n",
    "    delete_red = img.copy()\n",
    "    delete_red[:, :, 2] = 0\n",
    "\n",
    "    # Merge blue and green channels\n",
    "    final_img = delete_red[:, :, [1, 0, 0]]\n",
    "\n",
    "    return final_img"
   ]
  },
  {
   "cell_type": "code",
   "execution_count": 21,
   "metadata": {},
   "outputs": [
    {
     "data": {
      "text/plain": [
       "True"
      ]
     },
     "execution_count": 21,
     "metadata": {},
     "output_type": "execute_result"
    }
   ],
   "source": [
    "dichromatic_img = dog_cat_vision(fruit)\n",
    "cv.imwrite(\"dichromatic_img.jpg\", dichromatic_img)"
   ]
  },
  {
   "cell_type": "markdown",
   "metadata": {},
   "source": [
    "### Echolocation (bats)"
   ]
  },
  {
   "cell_type": "code",
   "execution_count": 22,
   "metadata": {},
   "outputs": [],
   "source": [
    "def bat_vision(image_link):\n",
    "    # Convert image to a gray scale color\n",
    "    img_gris = cv.imread(image_link, 0)\n",
    "    laplce1 = np.array([\n",
    "    [0, 1, 0],\n",
    "    [1, -4, 1],\n",
    "    [0, 1, 0]\n",
    "    ])\n",
    "    final_img = cv.filter2D(img_gris, -1, laplce1)\n",
    "    return final_img"
   ]
  },
  {
   "cell_type": "code",
   "execution_count": 23,
   "metadata": {},
   "outputs": [
    {
     "data": {
      "text/plain": [
       "True"
      ]
     },
     "execution_count": 23,
     "metadata": {},
     "output_type": "execute_result"
    }
   ],
   "source": [
    "echolocation_img = bat_vision(whale)\n",
    "cv.imwrite(\"echolocation_img.jpg\", echolocation_img)"
   ]
  },
  {
   "cell_type": "markdown",
   "metadata": {},
   "source": [
    "### Ultraviolet Vision (bees)"
   ]
  },
  {
   "cell_type": "code",
   "execution_count": 24,
   "metadata": {},
   "outputs": [],
   "source": [
    "def bees_vision(image_link):\n",
    "    img = cv.imread(image_link)\n",
    "\n",
    "    # Split channels\n",
    "    b, g, r = cv.split(img)\n",
    "\n",
    "    # Apply modifications to simulate fluorescence\n",
    "    uv_image = img.copy()\n",
    "    uv_image[:, :, 0] = b * 0.5  # Adjusting the blue channel\n",
    "    uv_image[:, :, 1] = g * 0.5  # Adjusting the green channel\n",
    "    uv_image[:, :, 2] = r * 1.5  # Adjusting the red channel\n",
    "\n",
    "    final_img = cv.cvtColor(uv_image, cv.COLOR_BGR2RGB)\n",
    "    return final_img"
   ]
  },
  {
   "cell_type": "code",
   "execution_count": 25,
   "metadata": {},
   "outputs": [
    {
     "data": {
      "text/plain": [
       "True"
      ]
     },
     "execution_count": 25,
     "metadata": {},
     "output_type": "execute_result"
    }
   ],
   "source": [
    "ultraviolet_img = bees_vision(butterfly)\n",
    "cv.imwrite(\"ultraviolet_img.jpg\", ultraviolet_img)"
   ]
  }
 ],
 "metadata": {
  "kernelspec": {
   "display_name": "Python 3",
   "language": "python",
   "name": "python3"
  },
  "language_info": {
   "codemirror_mode": {
    "name": "ipython",
    "version": 3
   },
   "file_extension": ".py",
   "mimetype": "text/x-python",
   "name": "python",
   "nbconvert_exporter": "python",
   "pygments_lexer": "ipython3",
   "version": "3.11.0"
  }
 },
 "nbformat": 4,
 "nbformat_minor": 2
}
